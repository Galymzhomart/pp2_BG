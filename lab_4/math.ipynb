{
 "cells": [
  {
   "cell_type": "markdown",
   "metadata": {},
   "source": [
    "## Python Math library\n",
    "\n",
    "1. Write a Python program to convert degree to radian.\n",
    "```\n",
    "Input degree: 15\n",
    "Output radian: 0.261904\n",
    "```\n",
    "\n",
    "\n"
   ]
  },
  {
   "cell_type": "code",
   "execution_count": 2,
   "metadata": {},
   "outputs": [],
   "source": [
    "import math\n",
    "from math import *"
   ]
  },
  {
   "cell_type": "code",
   "execution_count": 11,
   "metadata": {},
   "outputs": [
    {
     "name": "stdout",
     "output_type": "stream",
     "text": [
      "0.261799\n"
     ]
    }
   ],
   "source": [
    "degree = int(input())\n",
    "radian = math.radians(degree)\n",
    "print(round(radian, 6))"
   ]
  },
  {
   "cell_type": "markdown",
   "metadata": {},
   "source": [
    "2. Write a Python program to calculate the area of a trapezoid.\n",
    "```\n",
    "Height: 5\n",
    "Base, first value: 5\n",
    "Base, second value: 6\n",
    "Expected Output: 27.5\n",
    "```\n",
    "\n"
   ]
  },
  {
   "cell_type": "code",
   "execution_count": 13,
   "metadata": {},
   "outputs": [
    {
     "name": "stdout",
     "output_type": "stream",
     "text": [
      "the area of a trapezoid: 27.5\n"
     ]
    }
   ],
   "source": [
    "h = int(input(\"Height:\"))\n",
    "b1 = int(input(\"Base1:\"))\n",
    "b2 = int(input(\"Base2:\"))\n",
    "\n",
    "area = (b1 + b2)*h/2\n",
    "\n",
    "print(f\"the area of a trapezoid: {area}\")"
   ]
  },
  {
   "cell_type": "markdown",
   "metadata": {},
   "source": [
    "3. Write a Python program to calculate the area of regular polygon.\n",
    "```\n",
    "Input number of sides: 4\n",
    "Input the length of a side: 25\n",
    "The area of the polygon is: 625\n",
    "```\n",
    "\n"
   ]
  },
  {
   "cell_type": "code",
   "execution_count": 14,
   "metadata": {},
   "outputs": [
    {
     "name": "stdout",
     "output_type": "stream",
     "text": [
      "the area of regular polygon: 625.0\n"
     ]
    }
   ],
   "source": [
    "num_sides = int(input(\"num_sides:\"))\n",
    "lenth = float(input(\"lenth:\"))\n",
    "\n",
    "area = (num_sides * lenth**2) / (4 * math.tan(math.pi / num_sides))\n",
    "\n",
    "print(f\"the area of regular polygon: {round(area, 2)}\")"
   ]
  },
  {
   "cell_type": "markdown",
   "metadata": {},
   "source": [
    "4. Write a Python program to calculate the area of a parallelogram. \n",
    "```\n",
    "Length of base: 5\n",
    "Height of parallelogram: 6\n",
    "Expected Output: 30.0\n",
    "```"
   ]
  },
  {
   "cell_type": "code",
   "execution_count": 16,
   "metadata": {},
   "outputs": [
    {
     "name": "stdout",
     "output_type": "stream",
     "text": [
      "the area of a parallelogram: 30.0\n"
     ]
    }
   ],
   "source": [
    "a = float(input(\"lenth:\"))\n",
    "b = float(input(\"hight:\"))\n",
    "\n",
    "area = a*b\n",
    "print(f\"the area of a parallelogram: {area}\")"
   ]
  }
 ],
 "metadata": {
  "kernelspec": {
   "display_name": "base",
   "language": "python",
   "name": "python3"
  },
  "language_info": {
   "codemirror_mode": {
    "name": "ipython",
    "version": 3
   },
   "file_extension": ".py",
   "mimetype": "text/x-python",
   "name": "python",
   "nbconvert_exporter": "python",
   "pygments_lexer": "ipython3",
   "version": "3.12.7"
  }
 },
 "nbformat": 4,
 "nbformat_minor": 2
}
