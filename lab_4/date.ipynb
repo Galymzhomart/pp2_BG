{
 "cells": [
  {
   "cell_type": "markdown",
   "metadata": {},
   "source": [
    "## Python date\n",
    "\n",
    "1. Write a Python program to subtract five days from current date.\n"
   ]
  },
  {
   "cell_type": "code",
   "execution_count": 6,
   "metadata": {},
   "outputs": [
    {
     "name": "stdout",
     "output_type": "stream",
     "text": [
      "2025-02-15 16:36:32.912301\n"
     ]
    }
   ],
   "source": [
    "import datetime as dt\n",
    "from datetime import *\n",
    "x = dt.datetime.now()\n",
    "y = x - timedelta(days=5)\n",
    "\n",
    "print(y)"
   ]
  },
  {
   "cell_type": "markdown",
   "metadata": {},
   "source": [
    "\n",
    "2. Write a Python program to print yesterday, today, tomorrow.\n"
   ]
  },
  {
   "cell_type": "code",
   "execution_count": 9,
   "metadata": {},
   "outputs": [
    {
     "name": "stdout",
     "output_type": "stream",
     "text": [
      "totay:  2025-02-20\n",
      "yesterday:  2025-02-19\n",
      "tomorrow:  2025-02-21\n"
     ]
    }
   ],
   "source": [
    "today = dt.datetime.now()\n",
    "print(\"totay: \", today.strftime(\"%Y-%m-%d\"))\n",
    "\n",
    "yesterday = today - timedelta(days = 1)\n",
    "tomorrow = today + timedelta(days = 1)\n",
    "print(\"yesterday: \", yesterday.strftime(\"%Y-%m-%d\"))\n",
    "print(\"tomorrow: \", tomorrow.strftime(\"%Y-%m-%d\"))"
   ]
  },
  {
   "cell_type": "markdown",
   "metadata": {},
   "source": [
    "\n",
    "3. Write a Python program to drop microseconds from datetime.\n"
   ]
  },
  {
   "cell_type": "code",
   "execution_count": 11,
   "metadata": {},
   "outputs": [
    {
     "name": "stdout",
     "output_type": "stream",
     "text": [
      "2025-02-20 16:45:34\n"
     ]
    }
   ],
   "source": [
    "current_date = dt.datetime.now().replace(microsecond=0)\n",
    "\n",
    "print(current_date)"
   ]
  },
  {
   "cell_type": "markdown",
   "metadata": {},
   "source": [
    "\n",
    "4. Write a Python program to calculate two date difference in seconds.\n"
   ]
  },
  {
   "cell_type": "code",
   "execution_count": 17,
   "metadata": {},
   "outputs": [
    {
     "name": "stdout",
     "output_type": "stream",
     "text": [
      "Difference in second:  150.0\n"
     ]
    }
   ],
   "source": [
    "date_1 = dt.datetime(2025, 2, 20, 16, 51, 00)\n",
    "date_2 = dt.datetime(2025, 2, 20, 16, 53, 30)\n",
    "\n",
    "difference = (date_2 - date_1).total_seconds()\n",
    "print(\"Difference in second: \", difference)"
   ]
  }
 ],
 "metadata": {
  "kernelspec": {
   "display_name": "base",
   "language": "python",
   "name": "python3"
  },
  "language_info": {
   "codemirror_mode": {
    "name": "ipython",
    "version": 3
   },
   "file_extension": ".py",
   "mimetype": "text/x-python",
   "name": "python",
   "nbconvert_exporter": "python",
   "pygments_lexer": "ipython3",
   "version": "3.12.7"
  }
 },
 "nbformat": 4,
 "nbformat_minor": 2
}
