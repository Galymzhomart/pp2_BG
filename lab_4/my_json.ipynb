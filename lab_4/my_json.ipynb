{
 "cells": [
  {
   "cell_type": "code",
   "execution_count": 8,
   "metadata": {},
   "outputs": [
    {
     "name": "stdout",
     "output_type": "stream",
     "text": [
      "Interface Status\n",
      "================================================================================\n",
      "DN                                                 Description          Speed   MTU\n",
      "--------------------------------------------------------------------------------\n",
      "topology/pod-1/node-201/sys/phys-[eth1/33] \t \t\t\t inherit \t\t 9150\n",
      "topology/pod-1/node-201/sys/phys-[eth1/34] \t \t\t\t inherit \t\t 9150\n",
      "topology/pod-1/node-201/sys/phys-[eth1/35] \t \t\t\t inherit \t\t 9150\n",
      "topology/pod-1/node-201/sys/phys-[eth1/36] \t \t\t\t inherit \t\t 9150\n",
      "topology/pod-1/node-201/sys/phys-[eth1/1] \t \t\t\t inherit \t\t 9150\n",
      "topology/pod-1/node-201/sys/phys-[eth1/2] \t \t\t\t inherit \t\t 9150\n",
      "topology/pod-1/node-201/sys/phys-[eth1/3] \t \t\t\t inherit \t\t 9150\n",
      "topology/pod-1/node-201/sys/phys-[eth1/4] \t \t\t\t inherit \t\t 9150\n",
      "topology/pod-1/node-201/sys/phys-[eth1/5] \t \t\t\t inherit \t\t 9150\n",
      "topology/pod-1/node-201/sys/phys-[eth1/6] \t \t\t\t inherit \t\t 9150\n",
      "topology/pod-1/node-201/sys/phys-[eth1/7] \t \t\t\t inherit \t\t 9150\n",
      "topology/pod-1/node-201/sys/phys-[eth1/8] \t \t\t\t inherit \t\t 9150\n",
      "topology/pod-1/node-201/sys/phys-[eth1/9] \t \t\t\t inherit \t\t 9150\n",
      "topology/pod-1/node-201/sys/phys-[eth1/10] \t \t\t\t inherit \t\t 9150\n",
      "topology/pod-1/node-201/sys/phys-[eth1/11] \t \t\t\t inherit \t\t 9150\n",
      "topology/pod-1/node-201/sys/phys-[eth1/12] \t \t\t\t inherit \t\t 9150\n",
      "topology/pod-1/node-201/sys/phys-[eth1/13] \t \t\t\t inherit \t\t 9150\n",
      "topology/pod-1/node-201/sys/phys-[eth1/14] \t \t\t\t inherit \t\t 9150\n"
     ]
    }
   ],
   "source": [
    "import json\n",
    "with open(\"sample-data.json\", \"r\") as file:\n",
    "    data = json.load(file)\n",
    "\n",
    "print(\"Interface Status\")\n",
    "print(\"=\" * 80)\n",
    "print(f\"{'DN':<50} {'Description':<20} {'Speed':<7} {'MTU'}\")\n",
    "print(\"-\" * 80)\n",
    "\n",
    "for imdata in data[\"imdata\"]:\n",
    "    for i in imdata:\n",
    "        for j in imdata[i]: # every imdata[i] is dictionary\n",
    "            print(imdata[i][j][\"dn\"],\"\\t\", \"\\t\\t\\t\"  , imdata[i][j][\"speed\"] ,\"\\t\\t\" , imdata[i][j][\"mtu\"])\n"
   ]
  },
  {
   "cell_type": "code",
   "execution_count": 7,
   "metadata": {},
   "outputs": [
    {
     "name": "stdout",
     "output_type": "stream",
     "text": [
      "Interface status\n",
      "================================================================================\n",
      "DN                                          Description  speed            MTU\n",
      "------------------------------------------ ------------- ------------- \t ----\n",
      "topology/pod-1/node-201/sys/phys-[eth1/33] \t \t\t\t inherit \t\t 9150\n",
      "topology/pod-1/node-201/sys/phys-[eth1/34] \t \t\t\t inherit \t\t 9150\n",
      "topology/pod-1/node-201/sys/phys-[eth1/35] \t \t\t\t inherit \t\t 9150\n",
      "topology/pod-1/node-201/sys/phys-[eth1/36] \t \t\t\t inherit \t\t 9150\n",
      "topology/pod-1/node-201/sys/phys-[eth1/1] \t \t\t\t inherit \t\t 9150\n",
      "topology/pod-1/node-201/sys/phys-[eth1/2] \t \t\t\t inherit \t\t 9150\n",
      "topology/pod-1/node-201/sys/phys-[eth1/3] \t \t\t\t inherit \t\t 9150\n",
      "topology/pod-1/node-201/sys/phys-[eth1/4] \t \t\t\t inherit \t\t 9150\n",
      "topology/pod-1/node-201/sys/phys-[eth1/5] \t \t\t\t inherit \t\t 9150\n",
      "topology/pod-1/node-201/sys/phys-[eth1/6] \t \t\t\t inherit \t\t 9150\n",
      "topology/pod-1/node-201/sys/phys-[eth1/7] \t \t\t\t inherit \t\t 9150\n",
      "topology/pod-1/node-201/sys/phys-[eth1/8] \t \t\t\t inherit \t\t 9150\n",
      "topology/pod-1/node-201/sys/phys-[eth1/9] \t \t\t\t inherit \t\t 9150\n",
      "topology/pod-1/node-201/sys/phys-[eth1/10] \t \t\t\t inherit \t\t 9150\n",
      "topology/pod-1/node-201/sys/phys-[eth1/11] \t \t\t\t inherit \t\t 9150\n",
      "topology/pod-1/node-201/sys/phys-[eth1/12] \t \t\t\t inherit \t\t 9150\n",
      "topology/pod-1/node-201/sys/phys-[eth1/13] \t \t\t\t inherit \t\t 9150\n",
      "topology/pod-1/node-201/sys/phys-[eth1/14] \t \t\t\t inherit \t\t 9150\n"
     ]
    }
   ],
   "source": [
    "import json\n",
    "\n",
    "with open(\"sample-data.json\", \"r\") as file:\n",
    "    data = json.load(file)\n",
    "\n",
    "print(\"Interface status\")\n",
    "print(\"=\" * 80)\n",
    "print(\"DN\", \" \" * 40, \"Description \", \"speed\", \" \" * 10, \"MTU\")\n",
    "print(\"-\" * 42, \"-\" * 13, \"-\" * 13, \"\\t\", \"-\" * 4)\n",
    "for imdata in data[\"imdata\"]:\n",
    "    for i in imdata:\n",
    "        for j in imdata[i]: # every imdata[i] is dictionary\n",
    "            print(imdata[i][j][\"dn\"],\"\\t\", \"\\t\\t\\t\"  , imdata[i][j][\"speed\"] ,\"\\t\\t\" , imdata[i][j][\"mtu\"])\n"
   ]
  },
  {
   "cell_type": "code",
   "execution_count": null,
   "metadata": {},
   "outputs": [],
   "source": []
  }
 ],
 "metadata": {
  "kernelspec": {
   "display_name": "base",
   "language": "python",
   "name": "python3"
  },
  "language_info": {
   "codemirror_mode": {
    "name": "ipython",
    "version": 3
   },
   "file_extension": ".py",
   "mimetype": "text/x-python",
   "name": "python",
   "nbconvert_exporter": "python",
   "pygments_lexer": "ipython3",
   "version": "3.12.7"
  }
 },
 "nbformat": 4,
 "nbformat_minor": 2
}
