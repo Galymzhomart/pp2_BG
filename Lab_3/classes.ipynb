{
 "cells": [
  {
   "cell_type": "markdown",
   "metadata": {},
   "source": [
    "## Python Classes\n",
    "\n",
    "1. Define a class which has at least two methods:\n",
    "`getString`: to get a string from console input\n",
    "`printString`: to print the string in upper case."
   ]
  },
  {
   "cell_type": "code",
   "execution_count": null,
   "metadata": {},
   "outputs": [
    {
     "name": "stdout",
     "output_type": "stream",
     "text": [
      "446554156\n"
     ]
    }
   ],
   "source": [
    "class exercise:\n",
    "    def _init_(self):\n",
    "        self.text = \"\"\n",
    "    def getString(self):\n",
    "        self.text = input(\"enter a string:\")\n",
    "    def printString(self):\n",
    "        print(self.text.upper())\n",
    "objects = exercise()\n",
    "objects.getString()\n",
    "objects.printString()"
   ]
  },
  {
   "cell_type": "markdown",
   "metadata": {},
   "source": [
    "2. Define a class named `Shape` and its subclass `Square`. The `Square` class has an `init` function which takes a `length` as argument. Both classes have a `area` function which can print the area of the shape where Shape's area is 0 by default.\n"
   ]
  },
  {
   "cell_type": "code",
   "execution_count": 19,
   "metadata": {},
   "outputs": [
    {
     "name": "stdout",
     "output_type": "stream",
     "text": [
      "Shape area: 0\n",
      "Square area: 25\n"
     ]
    }
   ],
   "source": [
    "class Shape:\n",
    "    def __init__(self):\n",
    "        pass\n",
    "\n",
    "    def area(self):\n",
    "        return 0\n",
    "\n",
    "class Square(Shape):\n",
    "    def __init__(self, length):\n",
    "        super().__init__()\n",
    "        self.length = length\n",
    "\n",
    "    def area(self):\n",
    "        return self.length * self.length\n",
    "\n",
    "shape_instance = Shape()\n",
    "square_instance = Square(5)\n",
    "\n",
    "print(f\"Shape area: {shape_instance.area()}\")\n",
    "print(f\"Square area: {square_instance.area()}\")\n"
   ]
  },
  {
   "cell_type": "markdown",
   "metadata": {},
   "source": [
    "3. Define a class named `Rectangle` which inherits from `Shape` class from task 2. Class instance can be constructed by a `length` and `width`. The `Rectangle` class has a method which can compute the `area`."
   ]
  },
  {
   "cell_type": "code",
   "execution_count": 20,
   "metadata": {},
   "outputs": [
    {
     "name": "stdout",
     "output_type": "stream",
     "text": [
      "Rectangle area: 24\n"
     ]
    }
   ],
   "source": [
    "class Shape:\n",
    "    def __init__(self):\n",
    "        pass\n",
    "\n",
    "    def area(self):\n",
    "        return 0\n",
    "\n",
    "class Rectangle(Shape):\n",
    "    def __init__(self, length, width):\n",
    "        super().__init__()\n",
    "        self.length = length\n",
    "        self.width = width\n",
    "\n",
    "    def area(self):\n",
    "        return self.length * self.width\n",
    "\n",
    "rectangle_instance = Rectangle(4, 6)\n",
    "print(f\"Rectangle area: {rectangle_instance.area()}\")\n"
   ]
  },
  {
   "cell_type": "markdown",
   "metadata": {},
   "source": [
    "4. Write the definition of a Point class. Objects from this class should have a\n",
    "    - a method `show` to display the coordinates of the point\n",
    "    - a method `move` to change these coordinates\n",
    "    - a method `dist` that computes the distance between 2 points"
   ]
  },
  {
   "cell_type": "code",
   "execution_count": 21,
   "metadata": {},
   "outputs": [
    {
     "name": "stdout",
     "output_type": "stream",
     "text": [
      "Point coordinates: (2, 3)\n",
      "Point moved to: (4, 6)\n",
      "Point coordinates: (4, 6)\n",
      "Distance between points: 1.4142135623730951\n"
     ]
    },
    {
     "data": {
      "text/plain": [
       "1.4142135623730951"
      ]
     },
     "execution_count": 21,
     "metadata": {},
     "output_type": "execute_result"
    }
   ],
   "source": [
    "import math\n",
    "\n",
    "class Point:\n",
    "    def __init__(self, x=0, y=0):\n",
    "        self.x = x\n",
    "        self.y = y\n",
    "\n",
    "    def show(self):\n",
    "        print(f\"Point coordinates: ({self.x}, {self.y})\")\n",
    "\n",
    "    def move(self, new_x, new_y):\n",
    "        self.x = new_x\n",
    "        self.y = new_y\n",
    "        print(f\"Point moved to: ({self.x}, {self.y})\")\n",
    "\n",
    "    def dist(self, other_point):\n",
    "        distance = math.sqrt((self.x - other_point.x)**2 + (self.y - other_point.y)**2)\n",
    "        print(f\"Distance between points: {distance}\")\n",
    "        return distance\n",
    "\n",
    "point1 = Point(2, 3)\n",
    "point2 = Point(5, 7)\n",
    "\n",
    "point1.show()\n",
    "point1.move(4, 6)\n",
    "point1.show()\n",
    "point1.dist(point2)\n"
   ]
  },
  {
   "cell_type": "markdown",
   "metadata": {},
   "source": [
    "5. Create a bank account class that has attributes `owner`, `balance` and two methods `deposit` and `withdraw`. Withdrawals may not exceed the available balance. Instantiate your class, make several deposits and withdrawals, and test to make sure the account can't be overdrawn.\n",
    "```python\n",
    "class Account:\n",
    "    pass\n",
    "```"
   ]
  },
  {
   "cell_type": "code",
   "execution_count": 13,
   "metadata": {},
   "outputs": [
    {
     "name": "stdout",
     "output_type": "stream",
     "text": [
      "Deposited 500. New balance is 1500.\n",
      "Deposited 300. New balance is 1800.\n",
      "Withdrew 200. New balance is 1600.\n",
      "Withdrew 1600. New balance is 0.\n",
      "Final balance: 0\n"
     ]
    }
   ],
   "source": [
    "class Account:\n",
    "    def __init__(self, owner, balance=0):\n",
    "        self.owner = owner\n",
    "        self.balance = balance\n",
    "\n",
    "    def deposit(self, amount):\n",
    "        if amount > 0:\n",
    "            self.balance += amount\n",
    "            print(f\"Deposited {amount}. New balance is {self.balance}.\")\n",
    "        else:\n",
    "            print(\"Deposit amount must be positive.\")\n",
    "\n",
    "    def withdraw(self, amount):\n",
    "        if amount > self.balance:\n",
    "            print(\"Insufficient balance for this withdrawal.\")\n",
    "        elif amount > 0:\n",
    "            self.balance -= amount\n",
    "            print(f\"Withdrew {amount}. New balance is {self.balance}.\")\n",
    "        else:\n",
    "            print(\"Withdrawal amount must be positive.\")\n",
    "\n",
    "my_account = Account(\"Galym\", 1000)\n",
    "my_account.deposit(500)\n",
    "my_account.deposit(300)\n",
    "my_account.withdraw(200)\n",
    "my_account.withdraw(1600)\n",
    "\n",
    "print(f\"Final balance: {my_account.balance}\")\n"
   ]
  },
  {
   "cell_type": "markdown",
   "metadata": {},
   "source": [
    "6. Write a program which can filter prime numbers in a list by using `filter` function. Note: Use `lambda` to define anonymous functions."
   ]
  },
  {
   "cell_type": "code",
   "execution_count": 16,
   "metadata": {},
   "outputs": [
    {
     "name": "stdout",
     "output_type": "stream",
     "text": [
      "[2, 3, 5]\n"
     ]
    }
   ],
   "source": [
    "class pr:\n",
    "    def __init__(self, numbers):\n",
    "        self.numbers = numbers\n",
    "    def is_prime(self, num):\n",
    "        if num < 2:\n",
    "            return False\n",
    "        for i in range(2, int(num**0.5) + 1):\n",
    "            if num % i == 0:\n",
    "                return False\n",
    "        return True\n",
    "    def filterprimenumbers(self):\n",
    "        return list(filter(lambda x: self.is_prime(x), self.numbers))\n",
    "n = int(input())\n",
    "mylist = []\n",
    "for i in range(n):\n",
    "    number = int(input())\n",
    "    mylist.append(number)\n",
    "prime_filter = pr(mylist)\n",
    "print(prime_filter.filterprimenumbers())"
   ]
  }
 ],
 "metadata": {
  "kernelspec": {
   "display_name": "base",
   "language": "python",
   "name": "python3"
  },
  "language_info": {
   "codemirror_mode": {
    "name": "ipython",
    "version": 3
   },
   "file_extension": ".py",
   "mimetype": "text/x-python",
   "name": "python",
   "nbconvert_exporter": "python",
   "pygments_lexer": "ipython3",
   "version": "3.12.7"
  }
 },
 "nbformat": 4,
 "nbformat_minor": 2
}
