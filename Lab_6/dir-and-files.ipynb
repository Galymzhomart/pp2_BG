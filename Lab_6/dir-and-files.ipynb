{
 "cells": [
  {
   "cell_type": "markdown",
   "metadata": {},
   "source": [
    "## Python Directories and Files exercises\n",
    "\n",
    "1. Write a Python program to list only directories, files and all directories, files in a specified path. \n",
    "\n",
    "\n"
   ]
  },
  {
   "cell_type": "code",
   "execution_count": 6,
   "metadata": {},
   "outputs": [
    {
     "name": "stdout",
     "output_type": "stream",
     "text": [
      "Директории: ['.git', 'Lab_1', 'Lab_2', 'Lab_3', 'lab_4', 'Lab_5', 'Lab_6', 'lecture6', 'lecture7']\n",
      "Файлы: []\n",
      "Всё содержимое: ['.git', 'Lab_1', 'Lab_2', 'Lab_3', 'lab_4', 'Lab_5', 'Lab_6', 'lecture6', 'lecture7']\n"
     ]
    }
   ],
   "source": [
    "import os\n",
    "import string\n",
    "\n",
    "def list_directories(path='.'):\n",
    "    return [d for d in os.listdir(path) if os.path.isdir(os.path.join(path, d))]\n",
    "\n",
    "def list_files(path='.'):\n",
    "    return [f for f in os.listdir(path) if os.path.isfile(os.path.join(path, f))]\n",
    "\n",
    "def list_all(path='.'):\n",
    "    return os.listdir(path)\n",
    "\n",
    "path = r'C:\\Users\\galye\\Desktop\\PP2'\n",
    "print(\"Директории:\", list_directories(path))\n",
    "print(\"Файлы:\", list_files(path))\n",
    "print(\"Всё содержимое:\", list_all(path))\n"
   ]
  },
  {
   "cell_type": "markdown",
   "metadata": {},
   "source": [
    "2. Write a Python program to check for access to a specified path. Test the existence, readability, writability and executability of the specified path\n"
   ]
  },
  {
   "cell_type": "code",
   "execution_count": 7,
   "metadata": {},
   "outputs": [
    {
     "name": "stdout",
     "output_type": "stream",
     "text": [
      "Существует: True\n",
      "Читаемый: True\n",
      "Записываемый: True\n",
      "Исполняемый: True\n"
     ]
    }
   ],
   "source": [
    "def check_access(path):\n",
    "    print(\"Существует:\", os.path.exists(path))\n",
    "    print(\"Читаемый:\", os.access(path, os.R_OK))\n",
    "    print(\"Записываемый:\", os.access(path, os.W_OK))\n",
    "    print(\"Исполняемый:\", os.access(path, os.X_OK))\n",
    "\n",
    "check_access(path)"
   ]
  },
  {
   "cell_type": "markdown",
   "metadata": {},
   "source": [
    "3. Write a Python program to test whether a given path exists or not. If the path exist find the filename and directory portion of the given path. \n"
   ]
  },
  {
   "cell_type": "code",
   "execution_count": 12,
   "metadata": {},
   "outputs": [
    {
     "name": "stdout",
     "output_type": "stream",
     "text": [
      "Путь существует\n",
      "Имя файла: builtin-functions.ipynb\n",
      "Директория: C:\\Users\\galye\\Desktop\\PP2\\Lab_6\n"
     ]
    }
   ],
   "source": [
    "def path_info(path):\n",
    "    if os.path.exists(path):\n",
    "        print(\"Путь существует\")\n",
    "        print(\"Имя файла:\", os.path.basename(path))\n",
    "        print(\"Директория:\", os.path.dirname(path))\n",
    "    else:\n",
    "        print(\"Путь не существует\")\n",
    "path = r\"C:\\Users\\galye\\Desktop\\PP2\\Lab_6\\builtin-functions.ipynb\"\n",
    "path_info(path)"
   ]
  },
  {
   "cell_type": "markdown",
   "metadata": {},
   "source": [
    "4. Write a Python program to count the number of lines in a text file.\n"
   ]
  },
  {
   "cell_type": "code",
   "execution_count": 15,
   "metadata": {},
   "outputs": [
    {
     "name": "stdout",
     "output_type": "stream",
     "text": [
      "Количество строк: 2\n"
     ]
    }
   ],
   "source": [
    "import csv\n",
    "def count_lines(filename):\n",
    "    with open(filename, 'r', encoding='utf-8') as file:\n",
    "        return sum(1 for _ in file)\n",
    "with open('text.txt', 'w') as file:\n",
    "    file.write('Hello OLD file!\\n')\n",
    "    file.write('This is the ANOTHER message!')\n",
    "\n",
    "filename = 'text.txt'\n",
    "print(\"Количество строк:\", count_lines(filename))"
   ]
  },
  {
   "cell_type": "markdown",
   "metadata": {},
   "source": [
    "5. Write a Python program to write a list to a file.\n"
   ]
  },
  {
   "cell_type": "code",
   "execution_count": 23,
   "metadata": {},
   "outputs": [],
   "source": [
    "def write_list_to_file(filename, lst):\n",
    "    with open(filename, 'w', encoding='utf-8') as file:\n",
    "        file.writelines(f\"{item}\\n\" for item in lst)\n",
    "\n",
    "data = ['Jojo', 'Gurenn lagan', 'onepiece']\n",
    "write_list_to_file('text.txt', data)\n"
   ]
  },
  {
   "cell_type": "markdown",
   "metadata": {},
   "source": [
    "6. Write a Python program to generate 26 text files named A.txt, B.txt, and so on up to Z.txt\n"
   ]
  },
  {
   "cell_type": "code",
   "execution_count": 24,
   "metadata": {},
   "outputs": [],
   "source": [
    "for letter in string.ascii_uppercase:\n",
    "    with open(f\"{letter}.txt\", 'w', encoding='utf-8') as file:\n",
    "        file.write(f\"Файл {letter}.txt создан\\n\")"
   ]
  },
  {
   "cell_type": "markdown",
   "metadata": {},
   "source": [
    "7. Write a Python program to copy the contents of a file to another file  \n"
   ]
  },
  {
   "cell_type": "code",
   "execution_count": 21,
   "metadata": {},
   "outputs": [],
   "source": [
    "def copy_file(source, destination):\n",
    "    with open(source, 'r', encoding='utf-8') as src, open(destination, 'w', encoding='utf-8') as dst:\n",
    "        dst.write(src.read())\n",
    "\n",
    "copy_file('text.txt', 'A.txt')"
   ]
  },
  {
   "cell_type": "markdown",
   "metadata": {},
   "source": [
    "8. Write a Python program to delete file by specified path. Before deleting check for access and whether a given path exists or not."
   ]
  },
  {
   "cell_type": "code",
   "execution_count": 25,
   "metadata": {},
   "outputs": [
    {
     "name": "stdout",
     "output_type": "stream",
     "text": [
      "Файл B.txt удалён\n"
     ]
    }
   ],
   "source": [
    "def delete_file(path):\n",
    "    if os.path.exists(path):\n",
    "        if os.access(path, os.W_OK):\n",
    "            os.remove(path)\n",
    "            print(f\"Файл {path} удалён\")\n",
    "        else:\n",
    "            print(\"Нет прав на удаление\")\n",
    "    else:\n",
    "        print(\"Файл не существует\")\n",
    "\n",
    "delete_file('B.txt')"
   ]
  }
 ],
 "metadata": {
  "kernelspec": {
   "display_name": "base",
   "language": "python",
   "name": "python3"
  },
  "language_info": {
   "codemirror_mode": {
    "name": "ipython",
    "version": 3
   },
   "file_extension": ".py",
   "mimetype": "text/x-python",
   "name": "python",
   "nbconvert_exporter": "python",
   "pygments_lexer": "ipython3",
   "version": "3.12.7"
  }
 },
 "nbformat": 4,
 "nbformat_minor": 2
}
