{
 "cells": [
  {
   "cell_type": "markdown",
   "metadata": {},
   "source": [
    "## Python builtin functions exercises\n",
    "\n"
   ]
  },
  {
   "cell_type": "markdown",
   "metadata": {},
   "source": [
    "1. Write a Python program with builtin function to multiply all the numbers in a list\n"
   ]
  },
  {
   "cell_type": "code",
   "execution_count": 6,
   "metadata": {},
   "outputs": [],
   "source": [
    "import time"
   ]
  },
  {
   "cell_type": "code",
   "execution_count": 12,
   "metadata": {},
   "outputs": [
    {
     "name": "stdout",
     "output_type": "stream",
     "text": [
      "120\n"
     ]
    }
   ],
   "source": [
    "list1 = [1,2,3,4,5]\n",
    "a = 1\n",
    "for i in range(len(list1)):\n",
    "    a *= list1[i]\n",
    "print(a)"
   ]
  },
  {
   "cell_type": "markdown",
   "metadata": {},
   "source": [
    "2. Write a Python program with builtin function that accepts a string and calculate the number of upper case letters and lower case letters\n"
   ]
  },
  {
   "cell_type": "code",
   "execution_count": 8,
   "metadata": {},
   "outputs": [
    {
     "name": "stdout",
     "output_type": "stream",
     "text": [
      "The number of lowercase lettes: 14\n",
      "The number of uppercase lettes: 4\n"
     ]
    }
   ],
   "source": [
    "text = \"soMe texT For exaMles\"\n",
    "b = 0\n",
    "c = 0\n",
    "for i in text:\n",
    "    if i.islower():\n",
    "        b +=1\n",
    "    elif i.isupper():\n",
    "        c +=1\n",
    "print(f\"The number of lowercase lettes: {b}\")\n",
    "print(f\"The number of uppercase lettes: {c}\")"
   ]
  },
  {
   "cell_type": "markdown",
   "metadata": {},
   "source": [
    "3. Write a Python program with builtin function that checks whether a passed string is palindrome or not.\n"
   ]
  },
  {
   "cell_type": "code",
   "execution_count": 9,
   "metadata": {},
   "outputs": [
    {
     "name": "stdout",
     "output_type": "stream",
     "text": [
      "Yes pallindrome\n"
     ]
    }
   ],
   "source": [
    "pallindrome = \"lollol\"\n",
    "pallindrome = list(pallindrome)\n",
    "if pallindrome == pallindrome[::-1]:\n",
    "    print(\"Yes pallindrome\")\n",
    "else:\n",
    "    print(\"no not pallindrome\")"
   ]
  },
  {
   "cell_type": "markdown",
   "metadata": {},
   "source": [
    "4. Write a Python program that invoke square root function after specific milliseconds. \n",
    "    ```\n",
    "    Sample Input:\n",
    "    25100\n",
    "    2123\n",
    "    Sample Output:\n",
    "    Square root of 25100 after 2123 miliseconds is 158.42979517754858\n",
    "    ````\n"
   ]
  },
  {
   "cell_type": "code",
   "execution_count": 10,
   "metadata": {},
   "outputs": [
    {
     "name": "stdout",
     "output_type": "stream",
     "text": [
      "158.42979517754858\n"
     ]
    }
   ],
   "source": [
    "num = 25100\n",
    "zaderzhka = 2123\n",
    "\n",
    "time.sleep(zaderzhka / 1000)\n",
    "\n",
    "sqrt_value = num ** 0.5  \n",
    "\n",
    "print(sqrt_value)\n"
   ]
  },
  {
   "cell_type": "markdown",
   "metadata": {},
   "source": [
    "5. Write a Python program with builtin function that returns True if all elements of the tuple are true."
   ]
  },
  {
   "cell_type": "code",
   "execution_count": 11,
   "metadata": {},
   "outputs": [
    {
     "name": "stdout",
     "output_type": "stream",
     "text": [
      "True\n",
      "False\n"
     ]
    }
   ],
   "source": [
    "tuple1 = (True, True, True)\n",
    "tuple2 = (1,0,1)\n",
    "print(all(tuple1))\n",
    "print(all(tuple2))"
   ]
  }
 ],
 "metadata": {
  "kernelspec": {
   "display_name": "base",
   "language": "python",
   "name": "python3"
  },
  "language_info": {
   "codemirror_mode": {
    "name": "ipython",
    "version": 3
   },
   "file_extension": ".py",
   "mimetype": "text/x-python",
   "name": "python",
   "nbconvert_exporter": "python",
   "pygments_lexer": "ipython3",
   "version": "3.12.7"
  }
 },
 "nbformat": 4,
 "nbformat_minor": 2
}
